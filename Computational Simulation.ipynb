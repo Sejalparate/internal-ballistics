{
 "cells": [
  {
   "cell_type": "markdown",
   "id": "3f670b08",
   "metadata": {},
   "source": [
    "## Mathematical Calculation"
   ]
  },
  {
   "cell_type": "code",
   "execution_count": 1,
   "id": "7c7e8de8",
   "metadata": {},
   "outputs": [
    {
     "name": "stdout",
     "output_type": "stream",
     "text": [
      "Enter charge mass in grams\n",
      "0.159\n",
      "Enter weight of seat-man combination in kg\n",
      "400\n",
      "Enter chamber volume in m^3\n",
      "142.57\n",
      "a =  86.55327306655414  ft\n",
      "\n",
      "Enter form factor of propellent grain\n",
      "-0.172\n",
      "Enter burning rate\n",
      "0.1999\n",
      "Enter propellent web in inch\n",
      "0.0181\n",
      "b =  2.099414190060901  ft\n",
      "\n",
      "Enter inner diameter of the tube in inch\n",
      "2.602\n",
      "Enter outer diameter of the tube in inch\n",
      "3.0472\n",
      "Area = 6.305110419477137 sq. inch\n",
      "Peak pressure = 1166.5263031079091 psi = 8.043198859929033 MPa\n",
      "\n",
      "x1 =  2.5060007382026956  ft\n",
      "x2 =  0.2932181818785059  ft\n",
      "\n",
      "Peak rate of rise of acceleration = 268.0146128851312 g/s\n",
      "\n"
     ]
    }
   ],
   "source": [
    "# Importing necessary libraries\n",
    "import math\n",
    "import numpy as np\n",
    "from scipy.optimize import curve_fit\n",
    "from matplotlib import pyplot as plt\n",
    "\n",
    "gamma = 1.26\n",
    "c = float(input(\"Enter charge mass in grams\\n\"))\n",
    "w = float(input(\"Enter weight of seat-man combination in kg\\n\"))\n",
    "k = float(input(\"Enter chamber volume in m^3\\n\"))\n",
    "\n",
    "# Calculating value of a\n",
    "def calculate_a():\n",
    "    return 6823 * (c/w)**0.5 * (27.68 * (c/k))**((gamma-1)/2)\n",
    "\n",
    "a = calculate_a()\n",
    "print(\"a = \", a, \" ft\\n\")\n",
    "\n",
    "theta_f = float(input(\"Enter form factor of propellent grain\\n\"))\n",
    "beta = float(input(\"Enter burning rate\\n\"))\n",
    "d = float(input(\"Enter propellent web in inch\\n\"))\n",
    "\n",
    "# Calculating value of q,b\n",
    "def calculate_q_b():\n",
    "    return (1+theta_f) * (beta/d) * (1 - (27.68 * c/k) / (1/17.6)) * (k/w)**(2/3)\n",
    "\n",
    "b = calculate_q_b()\n",
    "print(\"b = \", b, \" ft\\n\")\n",
    "\n",
    "g = 32.2\n",
    "in_diam = float(input(\"Enter inner diameter of the tube in inch\\n\"))\n",
    "out_diam = float(input(\"Enter outer diameter of the tube in inch\\n\"))\n",
    "\n",
    "# Calculating area and peak pressure\n",
    "def calculate_area():\n",
    "    area = (math.pi)/8 * (in_diam**2 + out_diam**2)\n",
    "    return area\n",
    "    \n",
    "def calculate_peakpressure():\n",
    "    peak_pressure = (4.48*w / (27*b)) * (a**2 / (g*area))\n",
    "    return peak_pressure\n",
    "\n",
    "area = calculate_area()\n",
    "print(\"Area =\", area, \"sq. inch\")\n",
    "peak_pressure = calculate_peakpressure()\n",
    "print(\"Peak pressure =\", peak_pressure, \"psi =\", peak_pressure * 0.006895, \"MPa\\n\")\n",
    "\n",
    "# Calculating x1,x2\n",
    "x1 = (b/12) * (8+6.324)\n",
    "x2 = (b/12) * (8-6.324)\n",
    "print(\"x1 = \", x1, \" ft\")\n",
    "print(\"x2 = \", x2, \" ft\\n\")\n",
    "\n",
    "# Calculating (dp/dt)max\n",
    "temp1 = (1.12*w*b/g) * (a**2/area)\n",
    "temp2 = (b*a*x2 - 2*a*(x2**2)) / (math.pow(b+x2,5))\n",
    "temp3 = (temp1*temp2) / 32.2\n",
    "print(\"Peak rate of rise of acceleration =\", 0.5078 * temp3, \"g/s\\n\")"
   ]
  },
  {
   "cell_type": "markdown",
   "id": "2557f2fd",
   "metadata": {},
   "source": [
    "## Plot the graph"
   ]
  },
  {
   "cell_type": "code",
   "execution_count": 4,
   "id": "6d2ed871",
   "metadata": {},
   "outputs": [
    {
     "data": {
      "image/png": "[encoded data removed]",
      "text/plain": [
       "<Figure size 432x288 with 1 Axes>"
      ]
     },
     "metadata": {
      "needs_background": "light"
     },
     "output_type": "display_data"
    }
   ],
   "source": [
    "# Time settings\n",
    "total_time = 0.5\n",
    "transition_time = 0.2 \n",
    "\n",
    "time_points = np.linspace(0, total_time, 1000)\n",
    "\n",
    "acceleration_values = []\n",
    "\n",
    "for t in time_points:\n",
    "    if t < transition_time:\n",
    "        # Acceleration rises linearly from 0 to 21 ft/s² during the transition time\n",
    "        acceleration = (21 / transition_time) * t\n",
    "    else:\n",
    "        # After the transition, acceleration remains constant at 21 ft/s²\n",
    "        acceleration = 21\n",
    "        \n",
    "    acceleration_values.append(acceleration)\n",
    "\n",
    "# Plot the graph\n",
    "plt.plot(time_points, acceleration_values, label='Acceleration')\n",
    "plt.xlabel('Time (s)')\n",
    "plt.ylabel('Acceleration (ft/s²)')\n",
    "plt.title('Acceleration vs. Time')\n",
    "plt.legend()\n",
    "plt.grid(True);"
   ]
  },
  {
   "cell_type": "code",
   "execution_count": null,
   "id": "bc235ffa",
   "metadata": {},
   "outputs": [],
   "source": []
  }
 ],
 "metadata": {
  "kernelspec": {
   "display_name": "Python 3 (ipykernel)",
   "language": "python",
   "name": "python3"
  },
  "language_info": {
   "codemirror_mode": {
    "name": "ipython",
    "version": 3
   },
   "file_extension": ".py",
   "mimetype": "text/x-python",
   "name": "python",
   "nbconvert_exporter": "python",
   "pygments_lexer": "ipython3",
   "version": "3.9.12"
  }
 },
 "nbformat": 4,
 "nbformat_minor": 5
}
